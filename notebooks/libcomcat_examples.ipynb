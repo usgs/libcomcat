{
 "cells": [
  {
   "cell_type": "code",
   "execution_count": 1,
   "metadata": {
    "collapsed": true
   },
   "outputs": [],
   "source": [
    "from libcomcat.utils import get_phase_dataframe, get_summary_data_frame\n",
    "from libcomcat.search import search,count,get_event_by_id\n",
    "from datetime import datetime\n",
    "import os.path\n",
    "import pandas as pd"
   ]
  },
  {
   "cell_type": "markdown",
   "metadata": {},
   "source": [
    "This will be an exploration of the libcomcat API, which provides a wrapper around the ComCat web API, which is documented here:\n",
    "\n",
    "https://earthquake.usgs.gov/fdsnws/event/1/\n",
    "\n",
    "The `search` function allows you to search for the summary versions of earthquakes.  This summary is described here:\n",
    "\n",
    "https://earthquake.usgs.gov/earthquakes/feed/v1.0/geojson.php"
   ]
  },
  {
   "cell_type": "code",
   "execution_count": 2,
   "metadata": {},
   "outputs": [],
   "source": [
    "eventlist = search(starttime=datetime(1994,1,17,12,30),\n",
    "                       endtime=datetime(1994,1,18,12,35),\n",
    "                       minmagnitude=5.2)"
   ]
  },
  {
   "cell_type": "markdown",
   "metadata": {},
   "source": [
    "The `search` function returns a list of SummaryEvent objects, which have a number of basic attributes:"
   ]
  },
  {
   "cell_type": "code",
   "execution_count": 3,
   "metadata": {},
   "outputs": [
    {
     "name": "stdout",
     "output_type": "stream",
     "text": [
      "ci3144585\n",
      "1994-01-17 12:30:55.390000\n",
      "34.213\n",
      "-118.537\n",
      "18.202\n",
      "6.7\n",
      "1km NNW of Reseda, CA\n",
      "https://earthquake.usgs.gov/earthquakes/eventpage/ci3144585\n"
     ]
    }
   ],
   "source": [
    "event = eventlist[0]\n",
    "print(event.id)\n",
    "print(event.time)\n",
    "print(event.latitude)\n",
    "print(event.longitude)\n",
    "print(event.depth)\n",
    "print(event.magnitude)\n",
    "print(event.location)\n",
    "print(event.url)"
   ]
  },
  {
   "cell_type": "markdown",
   "metadata": {},
   "source": [
    "You can also get a list of properties from the summary object, and access those properties using the [] operator."
   ]
  },
  {
   "cell_type": "code",
   "execution_count": 4,
   "metadata": {},
   "outputs": [
    {
     "name": "stdout",
     "output_type": "stream",
     "text": [
      "['mag', 'place', 'time', 'updated', 'tz', 'url', 'detail', 'felt', 'cdi', 'mmi', 'alert', 'status', 'tsunami', 'sig', 'net', 'code', 'ids', 'sources', 'types', 'nst', 'dmin', 'rms', 'gap', 'magType', 'type', 'title']\n",
      "29.7\n"
     ]
    }
   ],
   "source": [
    "print(event.properties)\n",
    "print(event['gap'])"
   ]
  },
  {
   "cell_type": "markdown",
   "metadata": {},
   "source": [
    "Summary objects also know what products (shakemap,pager, etc.) exist for this event."
   ]
  },
  {
   "cell_type": "code",
   "execution_count": 5,
   "metadata": {},
   "outputs": [
    {
     "data": {
      "text/plain": [
       "True"
      ]
     },
     "execution_count": 5,
     "metadata": {},
     "output_type": "execute_result"
    }
   ],
   "source": [
    "event.hasProduct('shakemap')"
   ]
  },
  {
   "cell_type": "markdown",
   "metadata": {},
   "source": [
    "To turn this list of objects into a useful dataframe catalog, use the `get_summary_data_frame()` function:"
   ]
  },
  {
   "cell_type": "code",
   "execution_count": 6,
   "metadata": {},
   "outputs": [
    {
     "data": {
      "text/html": [
       "<div>\n",
       "<style>\n",
       "    .dataframe thead tr:only-child th {\n",
       "        text-align: right;\n",
       "    }\n",
       "\n",
       "    .dataframe thead th {\n",
       "        text-align: left;\n",
       "    }\n",
       "\n",
       "    .dataframe tbody tr th {\n",
       "        vertical-align: top;\n",
       "    }\n",
       "</style>\n",
       "<table border=\"1\" class=\"dataframe\">\n",
       "  <thead>\n",
       "    <tr style=\"text-align: right;\">\n",
       "      <th></th>\n",
       "      <th>id</th>\n",
       "      <th>time</th>\n",
       "      <th>location</th>\n",
       "      <th>latitude</th>\n",
       "      <th>longitude</th>\n",
       "      <th>depth</th>\n",
       "      <th>magnitude</th>\n",
       "      <th>url</th>\n",
       "    </tr>\n",
       "  </thead>\n",
       "  <tbody>\n",
       "    <tr>\n",
       "      <th>0</th>\n",
       "      <td>ci3144585</td>\n",
       "      <td>1994-01-17 12:30:55.390</td>\n",
       "      <td>1km NNW of Reseda, CA</td>\n",
       "      <td>34.213</td>\n",
       "      <td>-118.537</td>\n",
       "      <td>18.202</td>\n",
       "      <td>6.70</td>\n",
       "      <td>https://earthquake.usgs.gov/earthquakes/eventp...</td>\n",
       "    </tr>\n",
       "    <tr>\n",
       "      <th>1</th>\n",
       "      <td>ci3149646</td>\n",
       "      <td>1994-01-17 12:31:58.120</td>\n",
       "      <td>1km ENE of Granada Hills, California</td>\n",
       "      <td>34.275</td>\n",
       "      <td>-118.493</td>\n",
       "      <td>5.317</td>\n",
       "      <td>5.89</td>\n",
       "      <td>https://earthquake.usgs.gov/earthquakes/eventp...</td>\n",
       "    </tr>\n",
       "    <tr>\n",
       "      <th>2</th>\n",
       "      <td>ci3144694</td>\n",
       "      <td>1994-01-17 12:40:36.120</td>\n",
       "      <td>9km N of Chatsworth, California</td>\n",
       "      <td>34.340</td>\n",
       "      <td>-118.614</td>\n",
       "      <td>5.395</td>\n",
       "      <td>5.20</td>\n",
       "      <td>https://earthquake.usgs.gov/earthquakes/eventp...</td>\n",
       "    </tr>\n",
       "    <tr>\n",
       "      <th>3</th>\n",
       "      <td>ci3141273</td>\n",
       "      <td>1994-01-17 23:33:30.690</td>\n",
       "      <td>7km NNE of Simi Valley, California</td>\n",
       "      <td>34.326</td>\n",
       "      <td>-118.698</td>\n",
       "      <td>9.083</td>\n",
       "      <td>5.58</td>\n",
       "      <td>https://earthquake.usgs.gov/earthquakes/eventp...</td>\n",
       "    </tr>\n",
       "    <tr>\n",
       "      <th>4</th>\n",
       "      <td>ci3141286</td>\n",
       "      <td>1994-01-18 00:43:08.890</td>\n",
       "      <td>10km ESE of Piru, California</td>\n",
       "      <td>34.377</td>\n",
       "      <td>-118.698</td>\n",
       "      <td>10.709</td>\n",
       "      <td>5.24</td>\n",
       "      <td>https://earthquake.usgs.gov/earthquakes/eventp...</td>\n",
       "    </tr>\n",
       "    <tr>\n",
       "      <th>5</th>\n",
       "      <td>usp00066tf</td>\n",
       "      <td>1994-01-18 06:46:10.120</td>\n",
       "      <td>Java, Indonesia</td>\n",
       "      <td>-8.364</td>\n",
       "      <td>113.187</td>\n",
       "      <td>140.700</td>\n",
       "      <td>5.20</td>\n",
       "      <td>https://earthquake.usgs.gov/earthquakes/eventp...</td>\n",
       "    </tr>\n",
       "  </tbody>\n",
       "</table>\n",
       "</div>"
      ],
      "text/plain": [
       "           id                    time                              location  \\\n",
       "0   ci3144585 1994-01-17 12:30:55.390                 1km NNW of Reseda, CA   \n",
       "1   ci3149646 1994-01-17 12:31:58.120  1km ENE of Granada Hills, California   \n",
       "2   ci3144694 1994-01-17 12:40:36.120       9km N of Chatsworth, California   \n",
       "3   ci3141273 1994-01-17 23:33:30.690    7km NNE of Simi Valley, California   \n",
       "4   ci3141286 1994-01-18 00:43:08.890          10km ESE of Piru, California   \n",
       "5  usp00066tf 1994-01-18 06:46:10.120                       Java, Indonesia   \n",
       "\n",
       "   latitude  longitude    depth  magnitude  \\\n",
       "0    34.213   -118.537   18.202       6.70   \n",
       "1    34.275   -118.493    5.317       5.89   \n",
       "2    34.340   -118.614    5.395       5.20   \n",
       "3    34.326   -118.698    9.083       5.58   \n",
       "4    34.377   -118.698   10.709       5.24   \n",
       "5    -8.364    113.187  140.700       5.20   \n",
       "\n",
       "                                                 url  \n",
       "0  https://earthquake.usgs.gov/earthquakes/eventp...  \n",
       "1  https://earthquake.usgs.gov/earthquakes/eventp...  \n",
       "2  https://earthquake.usgs.gov/earthquakes/eventp...  \n",
       "3  https://earthquake.usgs.gov/earthquakes/eventp...  \n",
       "4  https://earthquake.usgs.gov/earthquakes/eventp...  \n",
       "5  https://earthquake.usgs.gov/earthquakes/eventp...  "
      ]
     },
     "execution_count": 6,
     "metadata": {},
     "output_type": "execute_result"
    }
   ],
   "source": [
    "df = get_summary_data_frame(eventlist)\n",
    "df"
   ]
  },
  {
   "cell_type": "markdown",
   "metadata": {},
   "source": [
    "In addition to the summary version of an object, there is a DetailEvent object created from the JSON described here:\n",
    "\n",
    "https://earthquake.usgs.gov/earthquakes/feed/v1.0/geojson_detail.php\n",
    "\n",
    "The detail object can be retrieved one of two ways:\n",
    "\n",
    " * the `getDetailEvent()` method of the SummaryEvent object\n",
    " * the `get_event_by_id()` function in the search module."
   ]
  },
  {
   "cell_type": "code",
   "execution_count": 7,
   "metadata": {},
   "outputs": [
    {
     "data": {
      "text/plain": [
       "ci3144585 1994-01-17 12:30:55.390000 (34.213,-118.537) 18.2 km M6.7"
      ]
     },
     "execution_count": 7,
     "metadata": {},
     "output_type": "execute_result"
    }
   ],
   "source": [
    "detail_event = event.getDetailEvent()\n",
    "detail_event"
   ]
  },
  {
   "cell_type": "markdown",
   "metadata": {},
   "source": [
    "The DetailEvent object has many of the same attributes as the SummaryEvent object (id, time, latitude, etc.)  It also has a method to retrieve product information from the detailed JSON."
   ]
  },
  {
   "cell_type": "code",
   "execution_count": 8,
   "metadata": {
    "collapsed": true
   },
   "outputs": [],
   "source": [
    "dyfi = detail_event.getProducts('dyfi')[0]"
   ]
  },
  {
   "cell_type": "code",
   "execution_count": 9,
   "metadata": {},
   "outputs": [
    {
     "data": {
      "text/plain": [
       "Product dyfi from us updated 2015-01-28 02:28:32.677000 containing 22 content files."
      ]
     },
     "execution_count": 9,
     "metadata": {},
     "output_type": "execute_result"
    }
   ],
   "source": [
    "dyfi"
   ]
  },
  {
   "cell_type": "markdown",
   "metadata": {},
   "source": [
    "Product objects have methods relating to their content files.  The primary one of interest is `getContent()`, which downloads content files from urls in the detailed JSON.  Here we will download the DYFI geocoded responses, and then load those into a Pandas dataframe."
   ]
  },
  {
   "cell_type": "code",
   "execution_count": 10,
   "metadata": {
    "collapsed": true
   },
   "outputs": [],
   "source": [
    "filename = os.path.join(os.path.expanduser('~'),'cdi_geo.txt')\n",
    "url = dyfi.getContent('cdi_geo.txt',filename=filename)"
   ]
  },
  {
   "cell_type": "code",
   "execution_count": 11,
   "metadata": {},
   "outputs": [],
   "source": [
    "columns = ['Geocoded box','CDI','No. of responses',\n",
    "           'Hypocentral distance','Latitude','Longitude',\n",
    "           'Suspect?','City','State']\n",
    "cdi_geo = pd.read_csv(filename,names=columns,skiprows=1)"
   ]
  },
  {
   "cell_type": "code",
   "execution_count": 12,
   "metadata": {},
   "outputs": [
    {
     "data": {
      "text/html": [
       "<div>\n",
       "<style>\n",
       "    .dataframe thead tr:only-child th {\n",
       "        text-align: right;\n",
       "    }\n",
       "\n",
       "    .dataframe thead th {\n",
       "        text-align: left;\n",
       "    }\n",
       "\n",
       "    .dataframe tbody tr th {\n",
       "        vertical-align: top;\n",
       "    }\n",
       "</style>\n",
       "<table border=\"1\" class=\"dataframe\">\n",
       "  <thead>\n",
       "    <tr style=\"text-align: right;\">\n",
       "      <th></th>\n",
       "      <th>Geocoded box</th>\n",
       "      <th>CDI</th>\n",
       "      <th>No. of responses</th>\n",
       "      <th>Hypocentral distance</th>\n",
       "      <th>Latitude</th>\n",
       "      <th>Longitude</th>\n",
       "      <th>Suspect?</th>\n",
       "      <th>City</th>\n",
       "      <th>State</th>\n",
       "    </tr>\n",
       "  </thead>\n",
       "  <tbody>\n",
       "    <tr>\n",
       "      <th>0</th>\n",
       "      <td>UTM:(11S 001 419 10000)</td>\n",
       "      <td>2.2</td>\n",
       "      <td>1</td>\n",
       "      <td>533</td>\n",
       "      <td>37.7737</td>\n",
       "      <td>-122.5050</td>\n",
       "      <td>0</td>\n",
       "      <td>UTM:(11S 001 419 10000)</td>\n",
       "      <td>NaN</td>\n",
       "    </tr>\n",
       "    <tr>\n",
       "      <th>1</th>\n",
       "      <td>UTM:(11S 001 420 10000)</td>\n",
       "      <td>1.0</td>\n",
       "      <td>1</td>\n",
       "      <td>541</td>\n",
       "      <td>37.8634</td>\n",
       "      <td>-122.5118</td>\n",
       "      <td>0</td>\n",
       "      <td>UTM:(11S 001 420 10000)</td>\n",
       "      <td>NaN</td>\n",
       "    </tr>\n",
       "    <tr>\n",
       "      <th>2</th>\n",
       "      <td>UTM:(11S 002 419 10000)</td>\n",
       "      <td>2.0</td>\n",
       "      <td>2</td>\n",
       "      <td>527</td>\n",
       "      <td>37.7789</td>\n",
       "      <td>-122.3920</td>\n",
       "      <td>0</td>\n",
       "      <td>UTM:(11S 002 419 10000)</td>\n",
       "      <td>NaN</td>\n",
       "    </tr>\n",
       "    <tr>\n",
       "      <th>3</th>\n",
       "      <td>UTM:(11S 003 419 10000)</td>\n",
       "      <td>3.4</td>\n",
       "      <td>1</td>\n",
       "      <td>520</td>\n",
       "      <td>37.7840</td>\n",
       "      <td>-122.2790</td>\n",
       "      <td>0</td>\n",
       "      <td>UTM:(11S 003 419 10000)</td>\n",
       "      <td>NaN</td>\n",
       "    </tr>\n",
       "    <tr>\n",
       "      <th>4</th>\n",
       "      <td>UTM:(11S 004 410 10000)</td>\n",
       "      <td>3.8</td>\n",
       "      <td>1</td>\n",
       "      <td>446</td>\n",
       "      <td>36.9811</td>\n",
       "      <td>-122.1105</td>\n",
       "      <td>0</td>\n",
       "      <td>UTM:(11S 004 410 10000)</td>\n",
       "      <td>NaN</td>\n",
       "    </tr>\n",
       "  </tbody>\n",
       "</table>\n",
       "</div>"
      ],
      "text/plain": [
       "              Geocoded box  CDI  No. of responses  Hypocentral distance  \\\n",
       "0  UTM:(11S 001 419 10000)  2.2                 1                   533   \n",
       "1  UTM:(11S 001 420 10000)  1.0                 1                   541   \n",
       "2  UTM:(11S 002 419 10000)  2.0                 2                   527   \n",
       "3  UTM:(11S 003 419 10000)  3.4                 1                   520   \n",
       "4  UTM:(11S 004 410 10000)  3.8                 1                   446   \n",
       "\n",
       "   Latitude  Longitude  Suspect?                     City  State  \n",
       "0   37.7737  -122.5050         0  UTM:(11S 001 419 10000)    NaN  \n",
       "1   37.8634  -122.5118         0  UTM:(11S 001 420 10000)    NaN  \n",
       "2   37.7789  -122.3920         0  UTM:(11S 002 419 10000)    NaN  \n",
       "3   37.7840  -122.2790         0  UTM:(11S 003 419 10000)    NaN  \n",
       "4   36.9811  -122.1105         0  UTM:(11S 004 410 10000)    NaN  "
      ]
     },
     "execution_count": 12,
     "metadata": {},
     "output_type": "execute_result"
    }
   ],
   "source": [
    "cdi_geo.head()"
   ]
  },
  {
   "cell_type": "markdown",
   "metadata": {},
   "source": [
    "We have a function that takes a DetailEvent object and returns a pandas DataFrame with phase data."
   ]
  },
  {
   "cell_type": "code",
   "execution_count": 13,
   "metadata": {},
   "outputs": [
    {
     "data": {
      "text/html": [
       "<div>\n",
       "<style>\n",
       "    .dataframe thead tr:only-child th {\n",
       "        text-align: right;\n",
       "    }\n",
       "\n",
       "    .dataframe thead th {\n",
       "        text-align: left;\n",
       "    }\n",
       "\n",
       "    .dataframe tbody tr th {\n",
       "        vertical-align: top;\n",
       "    }\n",
       "</style>\n",
       "<table border=\"1\" class=\"dataframe\">\n",
       "  <thead>\n",
       "    <tr style=\"text-align: right;\">\n",
       "      <th></th>\n",
       "      <th>Channel</th>\n",
       "      <th>Distance</th>\n",
       "      <th>Azimuth</th>\n",
       "      <th>Phase</th>\n",
       "      <th>Arrival Time</th>\n",
       "      <th>Status</th>\n",
       "      <th>Residual</th>\n",
       "      <th>Weight</th>\n",
       "    </tr>\n",
       "  </thead>\n",
       "  <tbody>\n",
       "    <tr>\n",
       "      <th>0</th>\n",
       "      <td>ZY.LA00.EHZ.</td>\n",
       "      <td>0.1267</td>\n",
       "      <td>147.3</td>\n",
       "      <td>P</td>\n",
       "      <td>1994-01-17 12:30:55</td>\n",
       "      <td>manual</td>\n",
       "      <td>None</td>\n",
       "      <td>None</td>\n",
       "    </tr>\n",
       "    <tr>\n",
       "      <th>1</th>\n",
       "      <td>ZY.LA00.ELN.</td>\n",
       "      <td>0.1267</td>\n",
       "      <td>147.3</td>\n",
       "      <td>P</td>\n",
       "      <td>1994-01-17 12:30:55</td>\n",
       "      <td>manual</td>\n",
       "      <td>None</td>\n",
       "      <td>None</td>\n",
       "    </tr>\n",
       "    <tr>\n",
       "      <th>2</th>\n",
       "      <td>ZY.LA00.ELE.</td>\n",
       "      <td>0.1267</td>\n",
       "      <td>147.3</td>\n",
       "      <td>S</td>\n",
       "      <td>1994-01-17 12:30:59</td>\n",
       "      <td>manual</td>\n",
       "      <td>None</td>\n",
       "      <td>None</td>\n",
       "    </tr>\n",
       "    <tr>\n",
       "      <th>3</th>\n",
       "      <td>ZY.LA02.EHZ.</td>\n",
       "      <td>0.1792</td>\n",
       "      <td>146.7</td>\n",
       "      <td>P</td>\n",
       "      <td>1994-01-17 12:30:57</td>\n",
       "      <td>manual</td>\n",
       "      <td>None</td>\n",
       "      <td>None</td>\n",
       "    </tr>\n",
       "    <tr>\n",
       "      <th>4</th>\n",
       "      <td>ZY.LA02.EHN.</td>\n",
       "      <td>0.1792</td>\n",
       "      <td>146.7</td>\n",
       "      <td>S</td>\n",
       "      <td>1994-01-17 12:30:59</td>\n",
       "      <td>manual</td>\n",
       "      <td>None</td>\n",
       "      <td>None</td>\n",
       "    </tr>\n",
       "  </tbody>\n",
       "</table>\n",
       "</div>"
      ],
      "text/plain": [
       "        Channel Distance  Azimuth Phase        Arrival Time  Status Residual  \\\n",
       "0  ZY.LA00.EHZ.   0.1267    147.3     P 1994-01-17 12:30:55  manual     None   \n",
       "1  ZY.LA00.ELN.   0.1267    147.3     P 1994-01-17 12:30:55  manual     None   \n",
       "2  ZY.LA00.ELE.   0.1267    147.3     S 1994-01-17 12:30:59  manual     None   \n",
       "3  ZY.LA02.EHZ.   0.1792    146.7     P 1994-01-17 12:30:57  manual     None   \n",
       "4  ZY.LA02.EHN.   0.1792    146.7     S 1994-01-17 12:30:59  manual     None   \n",
       "\n",
       "  Weight  \n",
       "0   None  \n",
       "1   None  \n",
       "2   None  \n",
       "3   None  \n",
       "4   None  "
      ]
     },
     "execution_count": 13,
     "metadata": {},
     "output_type": "execute_result"
    }
   ],
   "source": [
    "phases = get_phase_dataframe(detail_event)\n",
    "phases.head()"
   ]
  },
  {
   "cell_type": "code",
   "execution_count": null,
   "metadata": {
    "collapsed": true
   },
   "outputs": [],
   "source": []
  }
 ],
 "metadata": {
  "kernelspec": {
   "display_name": "Python 3",
   "language": "python",
   "name": "python3"
  },
  "language_info": {
   "codemirror_mode": {
    "name": "ipython",
    "version": 3
   },
   "file_extension": ".py",
   "mimetype": "text/x-python",
   "name": "python",
   "nbconvert_exporter": "python",
   "pygments_lexer": "ipython3",
   "version": "3.6.2"
  }
 },
 "nbformat": 4,
 "nbformat_minor": 2
}
